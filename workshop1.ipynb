{
  "nbformat": 4,
  "nbformat_minor": 0,
  "metadata": {
    "colab": {
      "provenance": [],
      "authorship_tag": "ABX9TyNlvIH1x4MSotqmfwoWmvW9",
      "include_colab_link": true
    },
    "kernelspec": {
      "name": "python3",
      "display_name": "Python 3"
    },
    "language_info": {
      "name": "python"
    }
  },
  "cells": [
    {
      "cell_type": "markdown",
      "metadata": {
        "id": "view-in-github",
        "colab_type": "text"
      },
      "source": [
        "<a href=\"https://colab.research.google.com/github/haicx1/PFP191/blob/main/workshop1.ipynb\" target=\"_parent\"><img src=\"https://colab.research.google.com/assets/colab-badge.svg\" alt=\"Open In Colab\"/></a>"
      ]
    },
    {
      "cell_type": "code",
      "execution_count": null,
      "metadata": {
        "colab": {
          "base_uri": "https://localhost:8080/"
        },
        "id": "uCyEW7wV9YE3",
        "outputId": "947609d1-dd3d-4ae4-ce3b-ec160a8cdbcf"
      },
      "outputs": [
        {
          "output_type": "stream",
          "name": "stdout",
          "text": [
            "Enter a real number a:7\n",
            "Enter a real number b:5\n",
            "Enter a real number c:3\n",
            "Enter a real number x:9\n",
            "S1 615.0\n",
            "0\n",
            "Enter a real number a:3\n",
            "Enter a real number b:4\n",
            "Enter a real number c:5\n",
            "The perimeter of the triangle is: 12.0\n",
            "The area of the triangle is: 6.0\n"
          ]
        }
      ],
      "source": [
        "while True:\n",
        "  try:\n",
        "    a = float(input('Enter a real number a:'))\n",
        "    b = float(input('Enter a real number b:'))\n",
        "    c = float(input('Enter a real number c:'))\n",
        "    x = float(input('Enter a real number x:'))\n",
        "    break\n",
        "  except:\n",
        "    print('Not input a real number.')\n",
        "S1 = a*x**2 + b*x + c\n",
        "print('S1',S1)\n",
        "S2a = b**2 - 4*a*c\n",
        "if S2a > 0 :\n",
        "  S2 = S2a**0.5\n",
        "else :\n",
        "  S2 = 0\n",
        "print(S2)\n",
        "while True:\n",
        "  try:\n",
        "    a = float(input('Enter a real number a:'))\n",
        "    b = float(input('Enter a real number b:'))\n",
        "    c = float(input('Enter a real number c:'))\n",
        "    break\n",
        "  except:\n",
        "    print('Not input a real number.')\n",
        "def isTriangle(a,b,c) :\n",
        "  if a + b >= c and a + c >= b and b + c >= a :\n",
        "    return True\n",
        "  else:\n",
        "    return False\n",
        "p = (a+b+c)/2\n",
        "P = a + b + c\n",
        "area = (p*(p - a)*(p-b)*(p-c))**0.5\n",
        "if isTriangle(a,b,c) :\n",
        "  print('The perimeter of the triangle is:',P)\n",
        "  print('The area of the triangle is:',area)\n",
        "else:\n",
        "  print('a,b,c are not sides of triangle.')\n",
        "\n",
        "\n",
        "\n",
        "\n",
        "\n"
      ]
    },
    {
      "cell_type": "code",
      "source": [
        "while True:\n",
        "  try:\n",
        "    a = float(input('Enter a real number a:'))\n",
        "    b = float(input('Enter a real number b:'))\n",
        "    c = float(input('Enter a real number c:'))\n",
        "    if a == b or b == c or c == a :\n",
        "      print('a,b,c must be different.')\n",
        "      continue\n",
        "    break\n",
        "  except:\n",
        "    print('Not input a real number.')\n",
        "def sortNum(a,b,c) :\n",
        "  if a > b:\n",
        "    a,b = b,a\n",
        "  if a > c:\n",
        "    a,c = c,a\n",
        "  if b > c:\n",
        "    b,c = c,b\n",
        "  print('The maximun value is',c)\n",
        "  print(a, \"<\", b, \"<\", c)\n",
        "sortNum(a,b,c)\n",
        "\n"
      ],
      "metadata": {
        "id": "IWYq_yxaFQeI",
        "colab": {
          "base_uri": "https://localhost:8080/"
        },
        "outputId": "74c613a9-057c-4baf-b4ba-e366255c9eb1"
      },
      "execution_count": 6,
      "outputs": [
        {
          "output_type": "stream",
          "name": "stdout",
          "text": [
            "Enter a real number a:4\n",
            "Enter a real number b:4\n",
            "Enter a real number c:4\n",
            "a,b,c must be different.\n",
            "Enter a real number a:1\n",
            "Enter a real number b:2\n",
            "Enter a real number c:3\n",
            "The maximun value is 3.0\n",
            "1.0 < 2.0 < 3.0\n"
          ]
        }
      ]
    },
    {
      "cell_type": "code",
      "source": [],
      "metadata": {
        "id": "LOPp2S8LFC6S"
      },
      "execution_count": null,
      "outputs": []
    }
  ]
}