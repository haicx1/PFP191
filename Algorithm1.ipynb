{
  "nbformat": 4,
  "nbformat_minor": 0,
  "metadata": {
    "colab": {
      "provenance": [],
      "authorship_tag": "ABX9TyPIFz64fyCudG/lHqo4Q1FS",
      "include_colab_link": true
    },
    "kernelspec": {
      "name": "python3",
      "display_name": "Python 3"
    },
    "language_info": {
      "name": "python"
    }
  },
  "cells": [
    {
      "cell_type": "markdown",
      "metadata": {
        "id": "view-in-github",
        "colab_type": "text"
      },
      "source": [
        "<a href=\"https://colab.research.google.com/github/haicx1/PFP191/blob/main/Algorithm1.ipynb\" target=\"_parent\"><img src=\"https://colab.research.google.com/assets/colab-badge.svg\" alt=\"Open In Colab\"/></a>"
      ]
    },
    {
      "cell_type": "code",
      "execution_count": null,
      "metadata": {
        "id": "wQLI-jPAXhlp",
        "colab": {
          "base_uri": "https://localhost:8080/"
        },
        "outputId": "6577528b-e4d1-4816-e581-f3fb288b9659"
      },
      "outputs": [
        {
          "output_type": "stream",
          "name": "stdout",
          "text": [
            "Enter a number:9\n",
            "Enter a number:12\n",
            "Enter a number:1\n",
            "Enter a number:4\n",
            "Enter a number:15\n",
            "Enter a number:29\n",
            "Enter a number:8\n",
            "Enter a number:done\n",
            "Bubble sort ascending :\n",
            "[1, 4, 8, 9, 12, 15, 29]\n"
          ]
        }
      ],
      "source": [
        "bubble = list()\n",
        "while True :\n",
        "  try:\n",
        "    x = input('Enter a number:')\n",
        "    if x == 'done':\n",
        "      break\n",
        "    x = int(x)\n",
        "    bubble.append(x)\n",
        "  except:\n",
        "    print('invalid input')\n",
        "def bubbleSort(bubble) :\n",
        "  for i in range(len(bubble)) :\n",
        "    for j in range(0,len(bubble) - i) :\n",
        "      if bubble[j-1] > bubble[j] :\n",
        "        temp = bubble[j-1]\n",
        "        bubble[j-1] = bubble[j]\n",
        "        bubble[j] = temp\n",
        "\n",
        "bubbleSort(bubble)\n",
        "\n",
        "print('Bubble sort ascending :')\n",
        "print(bubble)\n",
        "  "
      ]
    },
    {
      "cell_type": "code",
      "source": [
        "insert = list()\n",
        "while True :\n",
        "  try:\n",
        "    x = input('Enter a number:')\n",
        "    if x == 'done':\n",
        "      break\n",
        "    x = int(x)\n",
        "    insert.append(x)\n",
        "  except:\n",
        "    print('Invalid Input')\n",
        "\n",
        "def insertSort(array) :\n",
        " for i in range(1,len(array)) :\n",
        "    temp = array[i]\n",
        "    j = i - 1\n",
        "    while j >= 0 and temp < array[j] :\n",
        "      array[j+1] = array[j]\n",
        "      j = j -1\n",
        "    array[j+1] = temp\n",
        "      \n",
        "insertSort(insert)\n",
        "print('Insert sort ascending order:')\n",
        "print(insert)\n",
        "\n"
      ],
      "metadata": {
        "colab": {
          "base_uri": "https://localhost:8080/"
        },
        "id": "G0vcMu-wxfKG",
        "outputId": "0af911ac-87ba-4f57-aa67-2cd83fb1b2a7"
      },
      "execution_count": null,
      "outputs": [
        {
          "output_type": "stream",
          "name": "stdout",
          "text": [
            "Enter a number:9\n",
            "Enter a number:7\n",
            "Enter a number:8\n",
            "Enter a number:19\n",
            "Enter a number:\n",
            "Invalid Input\n",
            "Enter a number:20\n",
            "Enter a number:21\n",
            "Enter a number:done\n",
            "Insert sort ascending order:\n",
            "[7, 8, 9, 19, 20, 21]\n"
          ]
        }
      ]
    },
    {
      "cell_type": "code",
      "source": [
        "x = [3,2,4,1,5]\n",
        "def insertSort(array) :\n",
        " for i in range(1,len(array)) :\n",
        "    temp = array[i]\n",
        "    j = i - 1\n",
        "    while j >= 0 and temp < array[j] :\n",
        "      array[j+1] = array[j]\n",
        "      j = j -1\n",
        "    array[j+1] = temp\n",
        "      \n",
        "insertSort(x)\n",
        "print('Insert sort ascending order:')\n",
        "print(x)"
      ],
      "metadata": {
        "id": "XRX7GsUmwA_R",
        "colab": {
          "base_uri": "https://localhost:8080/"
        },
        "outputId": "5e4dc7c0-80eb-4f71-bf60-7ade539b91ee"
      },
      "execution_count": null,
      "outputs": [
        {
          "output_type": "stream",
          "name": "stdout",
          "text": [
            "Insert sort ascending order:\n",
            "[1, 2, 3, 4, 5]\n"
          ]
        }
      ]
    }
  ]
}