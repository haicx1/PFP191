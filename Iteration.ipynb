{
  "nbformat": 4,
  "nbformat_minor": 0,
  "metadata": {
    "colab": {
      "provenance": [],
      "authorship_tag": "ABX9TyPeXfUFLz91NV+xi0l7riMT",
      "include_colab_link": true
    },
    "kernelspec": {
      "name": "python3",
      "display_name": "Python 3"
    },
    "language_info": {
      "name": "python"
    }
  },
  "cells": [
    {
      "cell_type": "markdown",
      "metadata": {
        "id": "view-in-github",
        "colab_type": "text"
      },
      "source": [
        "<a href=\"https://colab.research.google.com/github/haicx1/PFP191/blob/main/Iteration.ipynb\" target=\"_parent\"><img src=\"https://colab.research.google.com/assets/colab-badge.svg\" alt=\"Open In Colab\"/></a>"
      ]
    },
    {
      "cell_type": "code",
      "execution_count": null,
      "metadata": {
        "colab": {
          "base_uri": "https://localhost:8080/"
        },
        "id": "gbqPmzaHUfjt",
        "outputId": "62587d13-1c36-498c-c398-498fd566aace"
      },
      "outputs": [
        {
          "output_type": "stream",
          "name": "stdout",
          "text": [
            "9 9\n",
            "41 41\n",
            "41 12\n",
            "41 3\n",
            "74 74\n",
            "74 15\n",
            "After 74\n"
          ]
        }
      ],
      "source": [
        "largest_so_far = -1\n",
        "for the_num in [9,41,12,3,74,15] :\n",
        "  if the_num > largest_so_far :\n",
        "    largest_so_far = the_num\n",
        "  print(largest_so_far,the_num)\n",
        "print('After',largest_so_far)"
      ]
    },
    {
      "cell_type": "code",
      "source": [
        "def isPrime(n) :\n",
        "  flag =False\n",
        "  if n == 1:\n",
        "    pass\n",
        "  else :\n",
        "    for i in range(2,n) :\n",
        "      if (n % i) == 0 :\n",
        "        return True\n",
        "    if flag == True:\n",
        "      pass\n",
        "    else:\n",
        "      print(n,'is a prime number.')\n",
        "\n",
        "while True:\n",
        "  n = int(input('Enter a natural number'))\n",
        "  try:\n",
        "    if n > 0 :\n",
        "      break\n",
        "    else:\n",
        "      print('Value is invalid.')\n",
        "  except:\n",
        "    print('Value is invalid.')\n",
        "for i in range(1,n) :\n",
        "  isPrime(i)\n",
        "\n",
        "\n",
        "\n",
        "\n",
        "\n",
        "\n",
        "\n",
        "\n",
        "     \n"
      ],
      "metadata": {
        "colab": {
          "base_uri": "https://localhost:8080/"
        },
        "id": "IrUepv8kQd6R",
        "outputId": "3e92a307-8702-42b4-bd6d-4295ab0dc6c5"
      },
      "execution_count": 8,
      "outputs": [
        {
          "output_type": "stream",
          "name": "stdout",
          "text": [
            "Enter a natural number9\n",
            "2 is a prime number.\n",
            "3 is a prime number.\n",
            "5 is a prime number.\n",
            "7 is a prime number.\n"
          ]
        }
      ]
    },
    {
      "cell_type": "code",
      "source": [
        "largest = None\n",
        "smallest = None\n",
        "while True:\n",
        "    num = input(\"Enter a number: \")\n",
        "    if num == \"done\":\n",
        "        break\n",
        "    try:\n",
        "        num = int(num)\n",
        "        if largest is None :\n",
        "            largest = num\n",
        "        elif largest < num :\n",
        "            largest = num\n",
        "        if smallest is None :\n",
        "            smallest = num\n",
        "        elif smallest > num :\n",
        "            smallest = num\n",
        "    except:\n",
        "        print('Invalid input')\n",
        "\n",
        "print(\"Maximum is\", largest)\n",
        "print('Minimum is', smallest)"
      ],
      "metadata": {
        "colab": {
          "base_uri": "https://localhost:8080/"
        },
        "id": "JMsqoWsbxLEb",
        "outputId": "a0053c34-6717-4e41-f6f8-ada42d071508"
      },
      "execution_count": null,
      "outputs": [
        {
          "output_type": "stream",
          "name": "stdout",
          "text": [
            "Enter a number: 7\n",
            "Enter a number: 2\n",
            "Enter a number: bob\n",
            "Invalid input\n",
            "Enter a number: 10\n",
            "Enter a number: done\n",
            "Maximum is 10\n",
            "Minimum is 2\n"
          ]
        }
      ]
    }
  ]
}