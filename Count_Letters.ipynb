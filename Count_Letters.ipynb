{
  "cells": [
    {
      "cell_type": "markdown",
      "metadata": {
        "id": "view-in-github",
        "colab_type": "text"
      },
      "source": [
        "<a href=\"https://colab.research.google.com/github/haicx1/PFP191/blob/main/Count_Letters.ipynb\" target=\"_parent\"><img src=\"https://colab.research.google.com/assets/colab-badge.svg\" alt=\"Open In Colab\"/></a>"
      ]
    },
    {
      "cell_type": "code",
      "source": [
        "words = input('Enter a string :')\n",
        "countstring = 0\n",
        "countnum = 0\n",
        "countsymb = 0\n",
        "for letter in words :\n",
        "  if letter.isalpha() :\n",
        "    countstring = countstring + 1\n",
        "  elif letter.isnumeric() :\n",
        "    countnum = countnum + 1\n",
        "  else :\n",
        "    countsymb = countsymb + 1\n",
        "print('alpha :',countstring)\n",
        "print('num:',countnum)\n",
        "print('symb:',countsymb)"
      ],
      "metadata": {
        "id": "kGAM91leW_Uq",
        "colab": {
          "base_uri": "https://localhost:8080/"
        },
        "outputId": "8f004f80-dcbf-41e8-d0c0-e49709085aca"
      },
      "execution_count": 2,
      "outputs": [
        {
          "output_type": "stream",
          "name": "stdout",
          "text": [
            "Enter a string :Hello123@\n",
            "alpha : 5\n",
            "num: 3\n",
            "symb: 1\n"
          ]
        }
      ]
    },
    {
      "cell_type": "code",
      "source": [
        "sum = 0\n",
        "total = 0\n",
        "for j in range(0,4) :\n",
        "  for i in range(1,3):\n",
        "    sum = i + 2 * j\n",
        "    total += sum\n",
        "\n",
        "print(total)"
      ],
      "metadata": {
        "colab": {
          "base_uri": "https://localhost:8080/"
        },
        "id": "24ccLriK1r0r",
        "outputId": "5ea5fe58-dc60-4dc0-c385-09520b1bc20e"
      },
      "execution_count": null,
      "outputs": [
        {
          "output_type": "stream",
          "name": "stdout",
          "text": [
            "36\n"
          ]
        }
      ]
    },
    {
      "cell_type": "code",
      "source": [
        "sum = 0\n",
        "total = 0\n",
        "for i in range(1,12) :\n",
        "  sum = 1 + (-1)**i\n",
        "  total += sum\n",
        "print(total)"
      ],
      "metadata": {
        "colab": {
          "base_uri": "https://localhost:8080/"
        },
        "id": "_PrKO9X8__EX",
        "outputId": "e77d4ed0-c407-450a-cc2a-ab270e108a04"
      },
      "execution_count": null,
      "outputs": [
        {
          "output_type": "stream",
          "name": "stdout",
          "text": [
            "10\n"
          ]
        }
      ]
    }
  ],
  "metadata": {
    "colab": {
      "provenance": [],
      "authorship_tag": "ABX9TyOEweuRzfPU47tpDFIsrSN/",
      "include_colab_link": true
    },
    "kernelspec": {
      "display_name": "Python 3",
      "name": "python3"
    },
    "language_info": {
      "name": "python"
    }
  },
  "nbformat": 4,
  "nbformat_minor": 0
}