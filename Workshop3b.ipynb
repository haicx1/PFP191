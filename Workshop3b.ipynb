{
 "nbformat": 4,
 "nbformat_minor": 0,
 "metadata": {
  "colab": {
   "provenance": [],
   "authorship_tag": "ABX9TyNYvmaSa1iNOQHdemGJTOHe",
   "include_colab_link": true
  },
  "kernelspec": {
   "name": "python3",
   "display_name": "Python 3"
  },
  "language_info": {
   "name": "python"
  }
 },
 "cells": [
  {
   "cell_type": "markdown",
   "metadata": {
    "id": "view-in-github",
    "colab_type": "text"
   },
   "source": [
    "<a href=\"https://colab.research.google.com/github/haicx1/PFP191/blob/main/Workshop3b.ipynb\" target=\"_parent\"><img src=\"https://colab.research.google.com/assets/colab-badge.svg\" alt=\"Open In Colab\"/></a>"
   ]
  },
  {
   "cell_type": "code",
   "execution_count": 10,
   "metadata": {
    "colab": {
     "base_uri": "https://localhost:8080/"
    },
    "id": "5fc3GAJA-Wf7",
    "outputId": "bd07e6e2-5cac-4287-e3ba-30e8de4238b7"
   },
   "outputs": [
    {
     "output_type": "stream",
     "name": "stdout",
     "text": [
      "Enter first String:software\n",
      "Enter second String:swear oft\n",
      "The Strings are anagram\n"
     ]
    }
   ],
   "source": [
    "String1 = input('Enter first String:')\n",
    "String2 = input('Enter second String:')\n",
    "s1 = String1.split(\" \")\n",
    "s2 = String2.split(\" \")\n",
    "s01 = \"\".join(s1)\n",
    "s02 = \"\".join(s2)\n",
    "def checkAna(s1,s2) :\n",
    "  if sorted(s01) == sorted(s02) :\n",
    "    print('The Strings are anagram')\n",
    "  else :\n",
    "    print('The Strings are not anagram')\n",
    "checkAna(s01,s02) \n",
    "\n",
    "\n"
   ]
  },
  {
   "cell_type": "code",
   "source": [
    "while True:\n",
    "  try:\n",
    "    h = input(\"Enter a hexa:\")\n",
    "    d = int(h,base=16)\n",
    "    break\n",
    "  except:\n",
    "    print('Input is not a hexa number')\n",
    "print(\"The decimal value:\",d)"
   ],
   "metadata": {
    "colab": {
     "base_uri": "https://localhost:8080/"
    },
    "id": "ywowAexXFlkM",
    "outputId": "62cce446-7a56-41fe-8e39-330e52bf1ad7"
   },
   "execution_count": 11,
   "outputs": [
    {
     "output_type": "stream",
     "name": "stdout",
     "text": [
      "Enter a hexa:AAA\n",
      "The decimal value: 2730\n"
     ]
    }
   ]
  }
 ]
}
