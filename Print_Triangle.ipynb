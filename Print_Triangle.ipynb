{
  "cells": [
    {
      "cell_type": "markdown",
      "metadata": {
        "id": "view-in-github",
        "colab_type": "text"
      },
      "source": [
        "<a href=\"https://colab.research.google.com/github/haicx1/PFP191/blob/main/Print_Triangle.ipynb\" target=\"_parent\"><img src=\"https://colab.research.google.com/assets/colab-badge.svg\" alt=\"Open In Colab\"/></a>"
      ]
    },
    {
      "cell_type": "code",
      "source": [
        "counts = dict()\n",
        "names = ['csey','cwen','csev','zqian','cwen']\n",
        "for name in names :\n",
        "  if name not in counts :\n",
        "    counts[name] = 1\n",
        "  else :\n",
        "    counts[name] = counts[name] + 1\n",
        "\n",
        "print(counts)"
      ],
      "metadata": {
        "id": "uNfGRl4BNoQq"
      },
      "execution_count": null,
      "outputs": []
    },
    {
      "cell_type": "code",
      "source": [
        "row = int(input('Enter number of rows required: '))\n",
        "for i in range(row):\n",
        "    for j in range(row-i):\n",
        "        print(' ', end='') \n",
        "    \n",
        "    for j in range(2*i+1):\n",
        "        if j==0 or j==2*i or i==row-1:\n",
        "            print('*',end='')\n",
        "        else:\n",
        "            print(' ', end='')\n",
        "    print() "
      ],
      "metadata": {
        "id": "x_c5zjwfQlgw"
      },
      "execution_count": null,
      "outputs": []
    },
    {
      "cell_type": "code",
      "source": [
        "n = int(input('Enter number of rows required: '))\n",
        "for i in range(1, n+1):\n",
        "    for j in range(1, n+1):\n",
        "        if (i == j) or (j == 1) or (i == n):\n",
        "            print(\"*\", end=\" \")\n",
        "        else:\n",
        "            print(\" \", end=\" \")\n",
        "    print()  "
      ],
      "metadata": {
        "id": "dxAPsgzYRIQD"
      },
      "execution_count": null,
      "outputs": []
    }
  ],
  "metadata": {
    "colab": {
      "provenance": [],
      "authorship_tag": "ABX9TyNpP62r4Ru6NCHL+lRFnoR5",
      "include_colab_link": true
    },
    "kernelspec": {
      "display_name": "Python 3",
      "name": "python3"
    },
    "language_info": {
      "name": "python"
    }
  },
  "nbformat": 4,
  "nbformat_minor": 0
}