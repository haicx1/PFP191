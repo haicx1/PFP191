{
 "cells": [
  {
   "cell_type": "code",
   "execution_count": 4,
   "metadata": {
    "collapsed": true
   },
   "outputs": [
    {
     "name": "stdout",
     "output_type": "stream",
     "text": [
      "Vehicle Name:white School Volvo Speed:180 Mileage:12\n",
      "The seating capicity of a white School Volvo is 50 passengers\n"
     ]
    }
   ],
   "source": [
    "class Vehicle:\n",
    "    color = 'White'\n",
    "\n",
    "    def __init__(self,name,max_speed,mileage,):\n",
    "        self.name = self.color + \" \" + name\n",
    "        self.max_speed = max_speed\n",
    "        self.mileage = mileage\n",
    "\n",
    "    def seating_capicity(self, capicity):\n",
    "        return f'The seating capicity of a {self.name} is {capicity} passengers'\n",
    "\n",
    "    def fare(self):\n",
    "        return self\n",
    "\n",
    "class Bus(Vehicle):\n",
    "    def display(self):\n",
    "        print(f'Vehicle Name:{self.name} Speed:{self.max_speed} Mileage:{self.mileage}')\n",
    "\n",
    "    def seating_capicity(self, capicity = 50):\n",
    "        print(super().seating_capicity(capicity))\n",
    "bus = Bus('School Volvo', 180, 12)\n",
    "bus.display()\n",
    "bus.seating_capicity()"
   ]
  },
  {
   "cell_type": "code",
   "execution_count": 10,
   "outputs": [
    {
     "name": "stdout",
     "output_type": "stream",
     "text": [
      "Total Bus fare is: 5500.0\n",
      "<class '__main__.Bus'>\n",
      "True\n"
     ]
    }
   ],
   "source": [
    "class Vehicle:\n",
    "    def __init__(self, name, mileage, capacity):\n",
    "        self.name = name\n",
    "        self.mileage = mileage\n",
    "        self.capacity = capacity\n",
    "\n",
    "    def fare(self):\n",
    "        return self.capacity * 100\n",
    "\n",
    "class Bus(Vehicle):\n",
    "    def fare(self):\n",
    "        return super().fare() + 0.1*super().fare()\n",
    "School_bus = Bus('School Volvo', 12, 50)\n",
    "print('Total Bus fare is:',School_bus.fare())\n",
    "print(type(School_bus))\n",
    "print(type(School_bus) == Vehicle)"
   ],
   "metadata": {
    "collapsed": false
   }
  },
  {
   "cell_type": "code",
   "execution_count": null,
   "outputs": [],
   "source": [],
   "metadata": {
    "collapsed": false,
    "pycharm": {
     "is_executing": true
    }
   }
  },
  {
   "cell_type": "code",
   "execution_count": 8,
   "outputs": [],
   "source": [],
   "metadata": {
    "collapsed": false
   }
  }
 ],
 "metadata": {
  "kernelspec": {
   "display_name": "Python 3",
   "language": "python",
   "name": "python3"
  },
  "language_info": {
   "codemirror_mode": {
    "name": "ipython",
    "version": 2
   },
   "file_extension": ".py",
   "mimetype": "text/x-python",
   "name": "python",
   "nbconvert_exporter": "python",
   "pygments_lexer": "ipython2",
   "version": "2.7.6"
  }
 },
 "nbformat": 4,
 "nbformat_minor": 0
}
