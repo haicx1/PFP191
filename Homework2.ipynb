{
  "nbformat": 4,
  "nbformat_minor": 0,
  "metadata": {
    "colab": {
      "provenance": [],
      "authorship_tag": "ABX9TyOuHvxDYuqVqX/HSm4FiP4F",
      "include_colab_link": true
    },
    "kernelspec": {
      "name": "python3",
      "display_name": "Python 3"
    },
    "language_info": {
      "name": "python"
    }
  },
  "cells": [
    {
      "cell_type": "markdown",
      "metadata": {
        "id": "view-in-github",
        "colab_type": "text"
      },
      "source": [
        "<a href=\"https://colab.research.google.com/github/haicx1/PFP191/blob/main/Homework2.ipynb\" target=\"_parent\"><img src=\"https://colab.research.google.com/assets/colab-badge.svg\" alt=\"Open In Colab\"/></a>"
      ]
    },
    {
      "cell_type": "code",
      "execution_count": 7,
      "metadata": {
        "colab": {
          "base_uri": "https://localhost:8080/"
        },
        "id": "Q0vm0gnASuWo",
        "outputId": "11161942-efd1-45eb-c998-2b6eb079bca4"
      },
      "outputs": [
        {
          "output_type": "stream",
          "name": "stdout",
          "text": [
            "Enter triangle edge 1:3\n",
            "Enter triangle edge 2:4\n",
            "Enter triangle edge 3:5\n",
            "the triangle is right at c\n"
          ]
        }
      ],
      "source": [
        "try:\n",
        "  a = float(input('Enter triangle edge 1:'))\n",
        "  b = float(input('Enter triangle edge 2:'))\n",
        "  c = float(input('Enter triangle edge 3:'))\n",
        "except:\n",
        "  a = -1\n",
        "  b = -1\n",
        "  c = -1\n",
        "if a <= 0 :\n",
        "  print('Triangle edge 1 is invalid.')\n",
        "if b <= 0 :\n",
        "  print('Triangle edge 2 is invalid')\n",
        "if c <= 0 :\n",
        "  print('Trinangle edge 3 is invalid')\n",
        "else:\n",
        "  if a == b == c :\n",
        "    print('The triangle is Equilateral.')\n",
        "  elif a == b :\n",
        "    print('The triangle is Isosceles at a and b')\n",
        "  elif a == c :\n",
        "    print('The triangle is Isosceles at a and c')\n",
        "  elif b == c :\n",
        "    print('The triangle is Isosceles at c and b')\n",
        "  elif a**2 + b**2 == c**2 :\n",
        "    print('the triangle is right at c')\n",
        "  elif b**2 + c**2 == a**2 :\n",
        "    print('The triangle is right at a')\n",
        "  elif c**2 + a**2 == b**2 :\n",
        "    print('The triangle is right at b')\n",
        "  else :\n",
        "    print('normal triangle')\n",
        "\n",
        "\n",
        "\n"
      ]
    },
    {
      "cell_type": "code",
      "source": [
        "try:\n",
        "  a = float(input('Enter a:'))\n",
        "  b = float(input('Enter b:'))\n",
        "  c = float(input('Enter c:'))\n",
        "except:\n",
        "  print('invalid')\n",
        "d = b**2 - 4 * a * c\n",
        "x1 = (-b + d**0.5)/(2*a)\n",
        "x2 = (-b - d**0.5)/(2*a)\n",
        "if a == 0 :\n",
        "  if b == 0 :\n",
        "    if c == 0 :\n",
        "      print('infinite x')\n",
        "    else :\n",
        "      print('invalid')\n",
        "  else: \n",
        "    print('nghiem bang 0.') \n",
        "elif d < 0 :\n",
        "  print('Phuong trinh vo nghiem.')\n",
        "elif d == 0 :\n",
        "  print('Nghiem cua phuong trinh la', x1)\n",
        "else :\n",
        "  print('x1 =',x1 )\n",
        "  print('x2=',x2)\n",
        "\n"
      ],
      "metadata": {
        "colab": {
          "base_uri": "https://localhost:8080/"
        },
        "id": "dXHLLw7LXtcq",
        "outputId": "0449081c-dbe8-4aaf-e868-dbce05f88704"
      },
      "execution_count": 10,
      "outputs": [
        {
          "output_type": "stream",
          "name": "stdout",
          "text": [
            "Enter a:1\n",
            "Enter b:-2\n",
            "Enter c:1\n",
            "Nghiem cua phuong trinh la 1.0\n"
          ]
        }
      ]
    },
    {
      "cell_type": "code",
      "source": [
        "try:\n",
        "  a = int(input('Enter a natural number:'))\n",
        "  b = int(input('Enter a natural number:'))\n",
        "  c = int(input('Enter a natural number:'))\n",
        "except:\n",
        "  print('error')\n",
        "if a >= b :\n",
        "  if b >= c :\n",
        "    print('Sap xep:',a,b,c)\n",
        "  elif b <= c :\n",
        "    print('Sap xep:',a,c,b)\n",
        "  elif a <= c:\n",
        "    print('Sap xep:',c,a,b)\n",
        "  else:\n",
        "    print('Sap xep:',a,b,c) \n",
        "elif a < b :\n",
        "  if b > c :\n",
        "    if a < c :\n",
        "      print('Sap xep:',b,c,a)\n",
        "    else:\n",
        "      print('Sap xep:',b,a,c)\n",
        "  else:\n",
        "    print('Sap xep:',c,b,a)\n",
        "    "
      ],
      "metadata": {
        "colab": {
          "base_uri": "https://localhost:8080/"
        },
        "id": "PX9lviMQf3AX",
        "outputId": "acebb174-2b1d-403e-f6b7-cd4dbbd04e79"
      },
      "execution_count": 11,
      "outputs": [
        {
          "output_type": "stream",
          "name": "stdout",
          "text": [
            "Enter a natural number:5\n",
            "Enter a natural number:6\n",
            "Enter a natural number:7\n",
            "Sap xep: 7 6 5\n"
          ]
        }
      ]
    }
  ]
}