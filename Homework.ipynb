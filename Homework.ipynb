{
  "nbformat": 4,
  "nbformat_minor": 0,
  "metadata": {
    "colab": {
      "provenance": [],
      "authorship_tag": "ABX9TyN0+zZVTW6hCovaMAFWsMTX",
      "include_colab_link": true
    },
    "kernelspec": {
      "name": "python3",
      "display_name": "Python 3"
    },
    "language_info": {
      "name": "python"
    }
  },
  "cells": [
    {
      "cell_type": "markdown",
      "metadata": {
        "id": "view-in-github",
        "colab_type": "text"
      },
      "source": [
        "<a href=\"https://colab.research.google.com/github/haicx1/PFP191/blob/main/Homework.ipynb\" target=\"_parent\"><img src=\"https://colab.research.google.com/assets/colab-badge.svg\" alt=\"Open In Colab\"/></a>"
      ]
    },
    {
      "cell_type": "code",
      "execution_count": null,
      "metadata": {
        "id": "12aMsjKG1UqT",
        "colab": {
          "base_uri": "https://localhost:8080/"
        },
        "outputId": "2035725b-967e-4b84-85ee-a4960166f7f8"
      },
      "outputs": [
        {
          "output_type": "stream",
          "name": "stdout",
          "text": [
            "437.5\n"
          ]
        }
      ],
      "source": [
        "a = 35.0\n",
        "b = 12.50\n",
        "c = a * b\n",
        "print(c)"
      ]
    },
    {
      "cell_type": "code",
      "source": [
        "hours = 35.0\n",
        "rate = 12.50\n",
        "pay = hours * rate\n",
        "print(pay)"
      ],
      "metadata": {
        "id": "AOYNm4eh4NBh"
      },
      "execution_count": null,
      "outputs": []
    },
    {
      "cell_type": "code",
      "source": [
        "x = 0.6\n",
        "x = 3.9 * x * (1-x)\n",
        "def truncate(n, decimals=0):\n",
        "    multiplier = 10 ** decimals\n",
        "    return int(n * multiplier) / multiplier\n",
        "print(truncate(x, 3))"
      ],
      "metadata": {
        "colab": {
          "base_uri": "https://localhost:8080/"
        },
        "id": "5ljaHAdh5idm",
        "outputId": "d2f00549-0d44-48e7-c10c-d53ac8e9c182"
      },
      "execution_count": null,
      "outputs": [
        {
          "output_type": "stream",
          "name": "stdout",
          "text": [
            "0.936\n"
          ]
        }
      ]
    },
    {
      "cell_type": "code",
      "source": [
        "num1 = int(input(\"ENTER FIRST NUMBER : \"))\n",
        "num2 = int(input(\"ENTER SECOND NUMBER : \"))\n",
        "divisor = 0\n",
        "print(\"THE COMMON DIVISORS OF NUMBER \",num1,\" AND \",num2,\" ARE -\")\n",
        "for i in range(1,min(num1,num2)+1):\n",
        "  if num1%i == num2%i == 0:\n",
        "    divisor = i\n",
        "    print(divisor)"
      ],
      "metadata": {
        "colab": {
          "base_uri": "https://localhost:8080/"
        },
        "id": "M29AAKlkCW3H",
        "outputId": "ffd88ee0-c287-4ab2-92dd-0af6c3370daa"
      },
      "execution_count": null,
      "outputs": [
        {
          "output_type": "stream",
          "name": "stdout",
          "text": [
            "ENTER FIRST NUMBER : 10\n",
            "ENTER SECOND NUMBER : 20\n",
            "THE COMMON DIVISORS OF NUMBER  10  AND  20  ARE -\n",
            "1\n",
            "2\n",
            "5\n",
            "10\n"
          ]
        }
      ]
    },
    {
      "cell_type": "code",
      "source": [
        "nam = input('who are you? ')\n",
        "print('Welcome',nam)"
      ],
      "metadata": {
        "id": "hfqMa8NfGkYw"
      },
      "execution_count": null,
      "outputs": []
    },
    {
      "cell_type": "code",
      "source": [
        "usf =int(input('Eu Floor: ')) +1\n",
        "print(usf)"
      ],
      "metadata": {
        "colab": {
          "base_uri": "https://localhost:8080/"
        },
        "id": "ObwLz4OUG64L",
        "outputId": "b357fc78-96aa-421a-80c9-371c4ddafd0a"
      },
      "execution_count": null,
      "outputs": [
        {
          "output_type": "stream",
          "name": "stdout",
          "text": [
            "Eu Floor: 5\n",
            "6\n"
          ]
        }
      ]
    },
    {
      "cell_type": "code",
      "source": [
        "hours = float(input('Enter Hours: '))\n",
        "rate = float(input('Enter Rate: '))\n"
      ],
      "metadata": {
        "id": "e6dOMJkIHhFL"
      },
      "execution_count": null,
      "outputs": []
    }
  ]
}