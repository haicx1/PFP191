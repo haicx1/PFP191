{
  "nbformat": 4,
  "nbformat_minor": 0,
  "metadata": {
    "colab": {
      "provenance": [],
      "authorship_tag": "ABX9TyPKj4av7PpVkOxY3O1CSvRt",
      "include_colab_link": true
    },
    "kernelspec": {
      "name": "python3",
      "display_name": "Python 3"
    },
    "language_info": {
      "name": "python"
    }
  },
  "cells": [
    {
      "cell_type": "markdown",
      "metadata": {
        "id": "view-in-github",
        "colab_type": "text"
      },
      "source": [
        "<a href=\"https://colab.research.google.com/github/haicx1/PFP191/blob/main/ASM_Dict.ipynb\" target=\"_parent\"><img src=\"https://colab.research.google.com/assets/colab-badge.svg\" alt=\"Open In Colab\"/></a>"
      ]
    },
    {
      "cell_type": "code",
      "execution_count": null,
      "metadata": {
        "colab": {
          "base_uri": "https://localhost:8080/"
        },
        "id": "eK_SgEtLVdJZ",
        "outputId": "c18c3214-9f6a-4856-ddb5-5d150d74e00b"
      },
      "outputs": [
        {
          "output_type": "stream",
          "name": "stdout",
          "text": [
            "Enter your sentence: hello Worlsdos\n",
            "h appears 1 time(s)\n",
            "e appears 1 time(s)\n",
            "l appears 3 time(s)\n",
            "o appears 3 time(s)\n",
            "W appears 1 time(s)\n",
            "r appears 1 time(s)\n",
            "s appears 2 time(s)\n",
            "d appears 1 time(s)\n"
          ]
        }
      ],
      "source": [
        "import re\n",
        "count = dict()\n",
        "letters = list()\n",
        "inp = input(\"Enter your sentence: \")\n",
        "res = re.sub(r'[^a-zA-Z]','',inp)\n",
        "res.lower()\n",
        "for letter in res:\n",
        "  letters.append(letter)\n",
        "for letter in letters:\n",
        "  if letter not in count:\n",
        "    count[letter] = 1\n",
        "  else:\n",
        "    count[letter] = count[letter] + 1\n",
        "for i,j in count.items() :\n",
        "  print(\"The letter\",i,\"appears\",j,\"time(s)\")"
      ]
    },
    {
      "cell_type": "code",
      "source": [
        "numbers = list()\n",
        "while True:\n",
        "  number = input(\"Enter a number:\")\n",
        "  if number == \"done\" : \n",
        "    break\n",
        "  try:\n",
        "    number = int(number)\n",
        "  except:\n",
        "    print('invalid input')\n",
        "  if number > 100:\n",
        "    continue\n",
        "  numbers.append(number)\n",
        "\n",
        "def selectionSort(arr):\n",
        "  for i in range(len(arr)):\n",
        "    min = i\n",
        "    for j in range(i+1,len(arr)):\n",
        "      if arr[j] < arr[min]:\n",
        "        min = j\n",
        "    arr[i],arr[min] = arr[min],arr[i]\n",
        "\n",
        "selectionSort(numbers)\n",
        "print(\"Selection Sort:\",numbers)"
      ],
      "metadata": {
        "colab": {
          "base_uri": "https://localhost:8080/"
        },
        "id": "t43FHV9bbp8M",
        "outputId": "ddeb14fa-86ae-46b4-d957-e5b66fe65c95"
      },
      "execution_count": null,
      "outputs": [
        {
          "output_type": "stream",
          "name": "stdout",
          "text": [
            "Enter a number:9\n",
            "Enter a number:8\n",
            "Enter a number:99\n",
            "Enter a number:7\n",
            "Enter a number:36\n",
            "Enter a number:76\n",
            "Enter a number:done\n",
            "Selection Sort: [7, 8, 9, 36, 76, 99]\n"
          ]
        }
      ]
    },
    {
      "cell_type": "code",
      "source": [
        "keys = list()\n",
        "while True:\n",
        "  key = input('Enter key:')\n",
        "  keys.append(key)\n",
        "  if key == 'done' :\n",
        "    break\n",
        "\n",
        "search = input('Enter key to search:')\n",
        "matched_index = []\n",
        "i = 0\n",
        "flag = False\n",
        "while i < len(keys) :\n",
        "  if search == keys[i]:\n",
        "    matched_index.append(i)\n",
        "    flag = True\n",
        "  i += 1\n",
        "    \n",
        "if flag == True:\n",
        "  print(f'{search} is presented at pos:',matched_index)\n",
        "else :\n",
        "  print('not found')\n",
        "  \n",
        "  "
      ],
      "metadata": {
        "colab": {
          "base_uri": "https://localhost:8080/"
        },
        "id": "1t_eJLw-6iBG",
        "outputId": "81862dd7-f37d-4413-abc4-b8f533676c33"
      },
      "execution_count": 23,
      "outputs": [
        {
          "output_type": "stream",
          "name": "stdout",
          "text": [
            "Enter key:hi\n",
            "Enter key:hi\n",
            "Enter key:uio\n",
            "Enter key:uio\n",
            "Enter key:hi\n",
            "Enter key:done\n",
            "Enter key to search:hi\n",
            "hi is presented at pos: [0, 1, 4]\n"
          ]
        }
      ]
    },
    {
      "cell_type": "code",
      "source": [
        "def binary_search(arr, low, high, x):\n",
        " \n",
        "    if high >= low:\n",
        " \n",
        "        mid = (high + low) // 2\n",
        " \n",
        "        if arr[mid] == x:\n",
        "            return mid\n",
        "\n",
        "        elif arr[mid] > x:\n",
        "            return binary_search(arr, low, mid - 1, x)\n",
        " \n",
        "        else:\n",
        "            return binary_search(arr, mid + 1, high, x)\n",
        " \n",
        "    else:\n",
        "        return -1\n",
        " \n",
        "arr = list()\n",
        "while True:\n",
        "  number = input(\"Enter a number:\")\n",
        "  if number == \"done\" : \n",
        "    break\n",
        "  try:\n",
        "    number = int(number)\n",
        "  except:\n",
        "    print('invalid input')\n",
        "  if number > 100:\n",
        "    continue\n",
        "  arr.append(number)\n",
        "while True:\n",
        "  try:\n",
        "    x = int(input('Enter number to search:'))\n",
        "    break\n",
        "  except:\n",
        "    print('invalid value')\n",
        "# Function call\n",
        "result = binary_search(arr, 0, len(arr)-1, x)\n",
        " \n",
        "if result != -1:\n",
        "    print(\"Element is present at index\", str(result))\n",
        "else:\n",
        "    print(\"Element is not present in array\")"
      ],
      "metadata": {
        "colab": {
          "base_uri": "https://localhost:8080/"
        },
        "id": "hXgoH1tpEzwz",
        "outputId": "b6dcda09-acf1-447c-a399-73328c4e3320"
      },
      "execution_count": 24,
      "outputs": [
        {
          "output_type": "stream",
          "name": "stdout",
          "text": [
            "Element is present at index 3\n"
          ]
        }
      ]
    }
  ]
}