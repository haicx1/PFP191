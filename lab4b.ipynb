{
 "cells": [
  {
   "cell_type": "code",
   "execution_count": null,
   "metadata": {
    "collapsed": true,
    "pycharm": {
     "is_executing": true
    }
   },
   "outputs": [],
   "source": [
    "\n",
    "\n",
    "#doc tung dong trong file\n",
    "poem_path = r'C:\\Users\\admin\\Downloads\\Documents\\file\\poem.txt'\n",
    "with open(poem_path,'r',encoding='utf-8') as fh:\n",
    "    lines = fh.readlines()\n",
    "    print(*lines, sep='\\n')\n",
    "    fh.close()"
   ]
  },
  {
   "cell_type": "code",
   "execution_count": null,
   "outputs": [],
   "source": [
    "story_path = r'C:\\Users\\admin\\Downloads\\Documents\\file\\story.txt'\n",
    "#doc file story.txt ma khong bat dau bang chu T\n",
    "with open(story_path, 'r',encoding='utf-8') as fh:\n",
    "    for line in fh:\n",
    "        if not line.startswith('T'):\n",
    "            line = line.rstrip()\n",
    "            print(line)\n",
    "    fh.close()"
   ],
   "metadata": {
    "collapsed": false,
    "pycharm": {
     "is_executing": true
    }
   }
  },
  {
   "cell_type": "code",
   "execution_count": null,
   "outputs": [],
   "source": [
    "import re\n",
    "from collections import Counter\n",
    "#Dem so tu trong story.txt\n",
    "def count_word(path):\n",
    "    with open(path, 'r',encoding='utf-8') as fh:\n",
    "        file_string = fh.read()\n",
    "        file_string = file_string.lower()\n",
    "        file_string1 = re.sub('[^a-zA-Z \\n]', '',file_string)\n",
    "        words = file_string1.split()\n",
    "        word_count = Counter(words)\n",
    "        print('Tong so tu:',len(words))\n",
    "        for word,count in word_count.items():\n",
    "            print(f'{word} xuat hien {count} lan')\n",
    "        fh.close()\n",
    "\n",
    "count_word(story_path)\n"
   ],
   "metadata": {
    "collapsed": false,
    "pycharm": {
     "is_executing": true
    }
   }
  },
  {
   "cell_type": "code",
   "execution_count": null,
   "outputs": [],
   "source": [
    "import re\n",
    "from collections import Counter\n",
    "#Dem so tu duoi 4 chu trong story.txt\n",
    "def count_word_1(path):\n",
    "    with open(path, 'r',encoding='utf-8') as fh:\n",
    "        file_string = fh.read()\n",
    "        file_string = file_string.lower()\n",
    "        file_string1 = re.sub('[^a-zA-Z \\n]', '',file_string)\n",
    "        words = file_string1.split()\n",
    "        word_count = Counter(words)\n",
    "        print('Tong so tu:',len(words))\n",
    "        for word,count in word_count.items():\n",
    "            if len(word) < 4:\n",
    "                print(f'{word} xuat hien {count} lan')\n",
    "        fh.close()\n",
    "\n",
    "count_word_1(story_path)"
   ],
   "metadata": {
    "collapsed": false,
    "pycharm": {
     "is_executing": true
    }
   }
  },
  {
   "cell_type": "code",
   "execution_count": 33,
   "outputs": [
    {
     "name": "stdout",
     "output_type": "stream",
     "text": [
      "17\n",
      "0\n"
     ]
    }
   ],
   "source": [
    "import re\n",
    "from collections import Counter\n",
    "#Dem so chu viet hoa trong article.txt\n",
    "article_path = r'C:\\Users\\admin\\Downloads\\Documents\\file\\article.txt'\n",
    "def count_word_up(path):\n",
    "    count_upper = 0\n",
    "    with open(path, 'r',encoding='utf-8') as fh:\n",
    "        file_string = fh.read()\n",
    "        for char in file_string:\n",
    "            if char.isupper():\n",
    "                count_upper += 1\n",
    "        print(count_upper)\n",
    "        fh.close()\n",
    "count_word_up(article_path)\n",
    "\n",
    "def this_and_these(path):\n",
    "       with open(path, 'r',encoding='utf-8') as fh:\n",
    "        count_this_these = 0\n",
    "        file_string = fh.read()\n",
    "        file_string = file_string.lower()\n",
    "        file_string1 = re.sub('[^a-zA-Z \\n]', '',file_string)\n",
    "        words = file_string1.split()\n",
    "        word_count = Counter(words)\n",
    "        for word,count in word_count.items():\n",
    "            if word == 'this' or word == 'these':\n",
    "                count_this_these = count_this_these + count\n",
    "        print(count_this_these)\n",
    "\n",
    "this_and_these(article_path)"
   ],
   "metadata": {
    "collapsed": false
   }
  },
  {
   "cell_type": "code",
   "execution_count": null,
   "outputs": [],
   "source": [],
   "metadata": {
    "collapsed": false
   }
  }
 ],
 "metadata": {
  "kernelspec": {
   "display_name": "Python 3",
   "language": "python",
   "name": "python3"
  },
  "language_info": {
   "codemirror_mode": {
    "name": "ipython",
    "version": 2
   },
   "file_extension": ".py",
   "mimetype": "text/x-python",
   "name": "python",
   "nbconvert_exporter": "python",
   "pygments_lexer": "ipython2",
   "version": "2.7.6"
  }
 },
 "nbformat": 4,
 "nbformat_minor": 0
}
