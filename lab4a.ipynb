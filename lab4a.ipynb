{
 "cells": [
  {
   "cell_type": "code",
   "execution_count": 11,
   "metadata": {
    "collapsed": true
   },
   "outputs": [],
   "source": [
    "import os\n",
    "file_path3 = r'C:\\Users\\haich\\Downloads\\Documents\\file\\sample3.txt'\n",
    "os.umask(0)\n",
    "with open(os.open(file_path3, os.O_CREAT | os.O_WRONLY, 0o77), 'w') as fh3:\n",
    "    fh3.write('hello')\n",
    "    fh3.close()\n",
    "\n",
    "\n"
   ]
  },
  {
   "cell_type": "code",
   "execution_count": 12,
   "outputs": [],
   "source": [
    "file_path1 = r'C:\\Users\\haich\\Downloads\\Documents\\file\\sample1.txt'\n",
    "fh1 = open(file_path1,'w')\n",
    "fh1.close()"
   ],
   "metadata": {
    "collapsed": false
   }
  },
  {
   "cell_type": "code",
   "execution_count": 13,
   "outputs": [
    {
     "name": "stdout",
     "output_type": "stream",
     "text": [
      "created 06-03-2023.txt\n",
      "created 06-03-2023-11-05-19.txt\n",
      "created C:\\Users\\haich\\Downloads\\Documents\\file\\06-03-2023-11-05-19.txt\n"
     ]
    }
   ],
   "source": [
    "from datetime import datetime\n",
    "\n",
    "x = datetime.now()\n",
    "file1_name = x.strftime('%d-%m-%Y.txt')\n",
    "with open(file1_name, 'w') as fh2:\n",
    "    print('created', file1_name)\n",
    "\n",
    "file2_name = x.strftime('%d-%m-%Y-%H-%M-%S.txt')\n",
    "with open(file2_name, 'w') as fh2:\n",
    "    print('created',file2_name)\n",
    "\n",
    "file3_name = x.strftime(r'C:\\Users\\haich\\Downloads\\Documents\\file\\%d-%m-%Y-%H-%M-%S.txt')\n",
    "with open(file3_name, 'w') as fh2:\n",
    "    print('created',file3_name)\n",
    "\n",
    "fh2.close()"
   ],
   "metadata": {
    "collapsed": false
   }
  },
  {
   "cell_type": "code",
   "execution_count": 14,
   "outputs": [
    {
     "ename": "TypeError",
     "evalue": "TextIOWrapper.write() takes exactly one argument (2 given)",
     "output_type": "error",
     "traceback": [
      "\u001B[1;31m---------------------------------------------------------------------------\u001B[0m",
      "\u001B[1;31mTypeError\u001B[0m                                 Traceback (most recent call last)",
      "Cell \u001B[1;32mIn[14], line 8\u001B[0m\n\u001B[0;32m      6\u001B[0m     \u001B[38;5;28;01mbreak\u001B[39;00m\n\u001B[0;32m      7\u001B[0m \u001B[38;5;28;01melse\u001B[39;00m:\n\u001B[1;32m----> 8\u001B[0m     \u001B[43mfh2\u001B[49m\u001B[38;5;241;43m.\u001B[39;49m\u001B[43mwrite\u001B[49m\u001B[43m(\u001B[49m\u001B[43mwrite_file\u001B[49m\u001B[43m,\u001B[49m\u001B[38;5;124;43m'\u001B[39;49m\u001B[38;5;124;43m/n\u001B[39;49m\u001B[38;5;124;43m'\u001B[39;49m\u001B[43m)\u001B[49m\n",
      "\u001B[1;31mTypeError\u001B[0m: TextIOWrapper.write() takes exactly one argument (2 given)"
     ]
    }
   ],
   "source": [
    "file_path2 = r'C:\\Users\\haich\\Downloads\\Documents\\file\\file2.txt'\n",
    "fh_2 = open(file_path2, 'w')\n",
    "while True:\n",
    "    write_file = input()\n",
    "    if write_file == 'done':\n",
    "        break\n",
    "    else:\n",
    "        fh2.write(write_file)\n"
   ],
   "metadata": {
    "collapsed": false
   }
  },
  {
   "cell_type": "code",
   "execution_count": null,
   "outputs": [],
   "source": [],
   "metadata": {
    "collapsed": false
   }
  }
 ],
 "metadata": {
  "kernelspec": {
   "display_name": "Python 3",
   "language": "python",
   "name": "python3"
  },
  "language_info": {
   "codemirror_mode": {
    "name": "ipython",
    "version": 2
   },
   "file_extension": ".py",
   "mimetype": "text/x-python",
   "name": "python",
   "nbconvert_exporter": "python",
   "pygments_lexer": "ipython2",
   "version": "2.7.6"
  }
 },
 "nbformat": 4,
 "nbformat_minor": 0
}
