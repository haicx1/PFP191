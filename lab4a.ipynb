{
 "cells": [
  {
   "cell_type": "code",
   "execution_count": 11,
   "metadata": {
    "collapsed": true
   },
   "outputs": [],
   "source": [
    "import os\n",
    "file_path3 = r'C:\\Users\\admin\\Downloads\\Documents\\file\\sample3.txt'\n",
    "os.umask(0)\n",
    "with open(os.open(file_path3, os.O_CREAT | os.O_WRONLY, 0o77), 'w') as fh3:\n",
    "    fh3.write('hello')\n",
    "    fh3.close()\n",
    "\n",
    "\n"
   ]
  },
  {
   "cell_type": "code",
   "execution_count": 12,
   "outputs": [],
   "source": [
    "file_path1 = r'C:\\Users\\admin\\Downloads\\Documents\\file\\sample1.txt'\n",
    "fh1 = open(file_path1,'w')\n",
    "fh1.close()"
   ],
   "metadata": {
    "collapsed": false
   }
  },
  {
   "cell_type": "code",
   "execution_count": 13,
   "outputs": [
    {
     "name": "stdout",
     "output_type": "stream",
     "text": [
      "created 06-03-2023.txt\n",
      "created 06-03-2023-11-05-19.txt\n",
      "created C:\\Users\\haich\\Downloads\\Documents\\file\\06-03-2023-11-05-19.txt\n"
     ]
    }
   ],
   "source": [
    "from datetime import datetime\n",
    "\n",
    "x = datetime.now()\n",
    "file1_name = x.strftime('%d-%m-%Y.txt')\n",
    "with open(file1_name, 'w') as fh2:\n",
    "    print('created', file1_name)\n",
    "\n",
    "file2_name = x.strftime('%d-%m-%Y-%H-%M-%S.txt')\n",
    "with open(file2_name, 'w') as fh2:\n",
    "    print('created',file2_name)\n",
    "\n",
    "file3_name = x.strftime(r'C:\\Users\\admin\\Downloads\\Documents\\file\\%d-%m-%Y-%H-%M-%S.txt')\n",
    "with open(file3_name, 'w') as fh2:\n",
    "    print('created',file3_name)\n",
    "\n",
    "fh2.close()"
   ],
   "metadata": {
    "collapsed": false
   }
  },
  {
   "cell_type": "code",
   "execution_count": 2,
   "outputs": [],
   "source": [
    "file_path2 = r'C:\\Users\\admin\\Downloads\\Documents\\file\\file2.txt'\n",
    "fh_2 = open(file_path2, 'w')\n",
    "while True:\n",
    "    write_file = input()\n",
    "    if write_file == 'done':\n",
    "        break\n",
    "    else:\n",
    "        fh_2.write(write_file)\n",
    "        fh_2.write('\\n')\n",
    "        continue\n"
   ],
   "metadata": {
    "collapsed": false
   }
  },
  {
   "cell_type": "code",
   "execution_count": 38,
   "outputs": [
    {
     "name": "stdout",
     "output_type": "stream",
     "text": [
      "Xin chao\n",
      "\n",
      "Day la test demo doc file\n",
      "\n",
      "File handle at: 37\n"
     ]
    }
   ],
   "source": [
    "file_path3 = r'C:\\Users\\admin\\Downloads\\Documents\\file\\demo.txt'\n",
    "fh_3 = open(file_path3,'r',encoding='utf-8')\n",
    "#seek the beginning of the file\n",
    "fh_3.seek(0)\n",
    "print(fh_3.readline())\n",
    "#seek from current position\n",
    "fh_3.seek(0,1)\n",
    "print(fh_3.readline())\n",
    "#use tell() to get handle position\n",
    "print('File handle at:',fh_3.tell())\n",
    "fh_3.close()\n",
    "\n"
   ],
   "metadata": {
    "collapsed": false
   }
  },
  {
   "cell_type": "code",
   "execution_count": 34,
   "outputs": [
    {
     "name": "stdout",
     "output_type": "stream",
     "text": [
      "b'hao\\r\\n'\n"
     ]
    }
   ],
   "source": [
    "#van su dung file_path3\n",
    "fh_3_1 = open(file_path3,'rb')\n",
    "fh_3_1.readline()\n",
    "#seek backward with negative offset\n",
    "fh_3_1.seek(-5,1)\n",
    "print(fh_3_1.readline())\n",
    "fh_3_1.close()"
   ],
   "metadata": {
    "collapsed": false
   }
  },
  {
   "cell_type": "code",
   "execution_count": 39,
   "outputs": [
    {
     "name": "stdout",
     "output_type": "stream",
     "text": [
      "This content is added to the end of the file\n"
     ]
    }
   ],
   "source": [
    "#seek end of file and append new content\n",
    "with open(file_path3,'a') as filehandle:\n",
    "    print('This content is added to the end of the file')\n",
    "    filehandle.write('\\nThis content is added to the end of the file')"
   ],
   "metadata": {
    "collapsed": false
   }
  },
  {
   "cell_type": "code",
   "execution_count": 44,
   "outputs": [],
   "source": [
    "import os\n",
    "path = 'C:/Users/admin/Downloads/Documents/file/'\n",
    "name = input('Enter file name:')\n",
    "#Tao file neu khong ton tai\n",
    "with open(path + name,'w') as fh:\n",
    "    fh.close()\n",
    "new_name = input('Enter new name:')\n",
    "#Doi ten file\n",
    "os.rename(path + name,path + new_name)\n",
    "\n"
   ],
   "metadata": {
    "collapsed": false
   }
  },
  {
   "cell_type": "code",
   "execution_count": 46,
   "outputs": [
    {
     "name": "stdout",
     "output_type": "stream",
     "text": [
      "New names are: halo1 halo2 halo3 halo4\n"
     ]
    }
   ],
   "source": [
    "#Doi ten nhieu file\n",
    "list_name  = list()\n",
    "list_name_changed = list()\n",
    "while True:\n",
    "    name = input('Enter file name you want to change:')\n",
    "    if name == 'done':\n",
    "        break\n",
    "    else:\n",
    "        list_name.append(name)\n",
    "        continue\n",
    "while True:\n",
    "    name_changed = input('Enter new file name you want to change:')\n",
    "    if name_changed == 'done' and len(list_name) == len(list_name_changed):\n",
    "        break\n",
    "    else:\n",
    "        list_name_changed.append(name_changed)\n",
    "        continue\n",
    "names = dict(zip(list_name,list_name_changed))\n",
    "for key in names:\n",
    "    with open(path + key,'w') as fh:\n",
    "        fh.close()\n",
    "    os.rename(path + key, path + names[key])\n",
    "print('New names are:',*names.values())\n"
   ],
   "metadata": {
    "collapsed": false
   }
  },
  {
   "cell_type": "code",
   "execution_count": 47,
   "outputs": [],
   "source": [
    "import datetime\n",
    "x = datetime.datetime.now()\n",
    "date_format = '%d-%m-%Y'\n",
    "name = input('Enter file name:')\n",
    "#Tao file neu khong ton tai\n",
    "with open(path + name,'w') as fh:\n",
    "    fh.close()\n",
    "#Ten moi co ngay thang nam\n",
    "new_name = name+x.strftime(date_format)\n",
    "os.rename(path + name,path + new_name)\n"
   ],
   "metadata": {
    "collapsed": false
   }
  },
  {
   "cell_type": "code",
   "execution_count": 49,
   "outputs": [],
   "source": [
    "path_des = 'C:/Users/admin/Downloads/Documents/file/rename/'\n",
    "name = input('Enter file name:')\n",
    "#Tao file neu khong ton tai\n",
    "with open(path + name,'w') as fh:\n",
    "    fh.close()\n",
    "new_name = input('Enter new name:')\n",
    "#Doi ten file va folder chua file\n",
    "os.rename(path + name,path_des + new_name)\n"
   ],
   "metadata": {
    "collapsed": false
   }
  },
  {
   "cell_type": "code",
   "execution_count": null,
   "outputs": [],
   "source": [],
   "metadata": {
    "collapsed": false
   }
  }
 ],
 "metadata": {
  "kernelspec": {
   "display_name": "Python 3",
   "language": "python",
   "name": "python3"
  },
  "language_info": {
   "codemirror_mode": {
    "name": "ipython",
    "version": 2
   },
   "file_extension": ".py",
   "mimetype": "text/x-python",
   "name": "python",
   "nbconvert_exporter": "python",
   "pygments_lexer": "ipython2",
   "version": "2.7.6"
  }
 },
 "nbformat": 4,
 "nbformat_minor": 0
}
