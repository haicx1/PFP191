{
 "cells": [
  {
   "cell_type": "code",
   "execution_count": 5,
   "metadata": {
    "collapsed": true
   },
   "outputs": [
    {
     "name": "stdout",
     "output_type": "stream",
     "text": [
      "['My', 'name', 'is', 'Kelly']\n"
     ]
    }
   ],
   "source": [
    "def add(a,b):\n",
    "    return a + b\n",
    "# noi 2 list\n",
    "concate = list(map(add, input().split(), input().split()))\n",
    "print(concate)"
   ]
  },
  {
   "cell_type": "code",
   "execution_count": 7,
   "outputs": [
    {
     "name": "stdout",
     "output_type": "stream",
     "text": [
      "[1, 4, 9, 16, 25, 36, 49]\n"
     ]
    }
   ],
   "source": [
    "def squr(a):\n",
    "    return a * a\n",
    "\n",
    "numbers = list(map(int, input().split()))\n",
    "print('list numbers:',numbers)\n",
    "#in ra mu 2 cua list so\n",
    "numbers_square = list(map(squr, numbers))\n",
    "print(numbers_square)"
   ],
   "metadata": {
    "collapsed": false
   }
  },
  {
   "cell_type": "code",
   "execution_count": 12,
   "outputs": [
    {
     "name": "stdout",
     "output_type": "stream",
     "text": [
      "['Hello Dear', 'Hello Sir', 'Hello Madam', 'take Dear', 'take Sir', 'take Madam', 'me Dear', 'me Sir', 'me Madam']\n"
     ]
    }
   ],
   "source": [
    "import itertools\n",
    "\n",
    "list1 = input().split()\n",
    "list2 = input().split()\n",
    "list3 = list(itertools.product(list1,list2))\n",
    "list4 = list()\n",
    "for i in list3:\n",
    "    i  = ' '.join(i)\n",
    "    list4.append(i)\n",
    "print(list4)\n"
   ],
   "metadata": {
    "collapsed": false
   }
  },
  {
   "cell_type": "code",
   "execution_count": 17,
   "outputs": [
    {
     "name": "stdout",
     "output_type": "stream",
     "text": [
      "80\n"
     ]
    }
   ],
   "source": [
    "sample_dict = {\n",
    "    \"class\": {\n",
    "        \"student\": {\n",
    "            \"name\" : \"Mike\",\n",
    "            \"marks\" : {\n",
    "                \"physics\" : 70,\n",
    "                \"history\" : 80\n",
    "            }\n",
    "        }\n",
    "    }\n",
    "}\n",
    "dict1 = sample_dict['class']\n",
    "dict2 = dict1['student']\n",
    "dict3 = dict2['marks']\n",
    "print(dict3['history'])"
   ],
   "metadata": {
    "collapsed": false
   }
  },
  {
   "cell_type": "code",
   "execution_count": 18,
   "outputs": [
    {
     "name": "stdout",
     "output_type": "stream",
     "text": [
      "{'Kelly': {'designation': 'Developer', 'Salary': 8000}, 'Emma': {'designation': 'Developer', 'Salary': 8000}}\n"
     ]
    }
   ],
   "source": [
    "names = input('Enter names:').split()\n",
    "defaults = {\"designation\": \"Developer\", \"Salary\": 8000}\n",
    "name_dict = dict()\n",
    "for name in names:\n",
    "    name_dict[name] = defaults\n",
    "print(name_dict)\n"
   ],
   "metadata": {
    "collapsed": false
   }
  },
  {
   "cell_type": "code",
   "execution_count": 20,
   "outputs": [
    {
     "name": "stdout",
     "output_type": "stream",
     "text": [
      "20\n",
      "10\n",
      "20\n",
      "30\n",
      "40\n"
     ]
    }
   ],
   "source": [
    "tuple1 = (\"Orange\",[10, 20, 30], [5, 15, 25])\n",
    "print(tuple1[1][1])\n",
    "tuple2 = (10, 20, 30, 40)\n",
    "a,b,c,d = tuple2\n",
    "print(a)\n",
    "print(b)\n",
    "print(c)\n",
    "print(d)"
   ],
   "metadata": {
    "collapsed": false
   }
  },
  {
   "cell_type": "code",
   "execution_count": 21,
   "outputs": [
    {
     "name": "stdout",
     "output_type": "stream",
     "text": [
      "(99, 101) (11, 22)\n"
     ]
    }
   ],
   "source": [
    "tuple1 = (11,22)\n",
    "tuple2 = (99,101)\n",
    "tuple1,tuple2 = tuple2,tuple1\n",
    "print(tuple1,tuple2)\n"
   ],
   "metadata": {
    "collapsed": false
   }
  },
  {
   "cell_type": "code",
   "execution_count": null,
   "outputs": [],
   "source": [],
   "metadata": {
    "collapsed": false
   }
  }
 ],
 "metadata": {
  "kernelspec": {
   "display_name": "Python 3",
   "language": "python",
   "name": "python3"
  },
  "language_info": {
   "codemirror_mode": {
    "name": "ipython",
    "version": 2
   },
   "file_extension": ".py",
   "mimetype": "text/x-python",
   "name": "python",
   "nbconvert_exporter": "python",
   "pygments_lexer": "ipython2",
   "version": "2.7.6"
  }
 },
 "nbformat": 4,
 "nbformat_minor": 0
}
