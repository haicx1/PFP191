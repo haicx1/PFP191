{
 "nbformat": 4,
 "nbformat_minor": 0,
 "metadata": {
  "colab": {
   "provenance": [],
   "authorship_tag": "ABX9TyNFYXSDNieTsURS9lKmfyA9",
   "include_colab_link": true
  },
  "kernelspec": {
   "name": "python3",
   "display_name": "Python 3"
  },
  "language_info": {
   "name": "python"
  }
 },
 "cells": [
  {
   "cell_type": "markdown",
   "metadata": {
    "id": "view-in-github",
    "colab_type": "text"
   },
   "source": [
    "<a href=\"https://colab.research.google.com/github/haicx1/PFP191/blob/main/Homework1.ipynb\" target=\"_parent\"><img src=\"https://colab.research.google.com/assets/colab-badge.svg\" alt=\"Open In Colab\"/></a>"
   ]
  },
  {
   "cell_type": "code",
   "source": [
    "num1 = int(input(\"ENTER FIRST NUMBER : \"))\n",
    "num2 = int(input(\"ENTER SECOND NUMBER : \"))\n",
    "divisor = 0\n",
    "print(\"THE COMMON DIVISORS OF NUMBER \",num1,\" AND \",num2,\" ARE -\")\n",
    "for i in range(1,min(num1,num2)+1):\n",
    "  if num1%i == num2%i == 0:\n",
    "    divisor = i\n",
    "    print(divisor)"
   ],
   "metadata": {
    "colab": {
     "base_uri": "https://localhost:8080/"
    },
    "id": "M29AAKlkCW3H",
    "outputId": "ffd88ee0-c287-4ab2-92dd-0af6c3370daa"
   },
   "execution_count": null,
   "outputs": [
    {
     "output_type": "stream",
     "name": "stdout",
     "text": [
      "ENTER FIRST NUMBER : 10\n",
      "ENTER SECOND NUMBER : 20\n",
      "THE COMMON DIVISORS OF NUMBER  10  AND  20  ARE -\n",
      "1\n",
      "2\n",
      "5\n",
      "10\n"
     ]
    }
   ]
  },
  {
   "cell_type": "code",
   "source": [
    "hours = float(input('Enter Hours: '))\n",
    "rate = float(input('Enter Rate: '))\n",
    "pay= hours * rate\n",
    "print('Gross pay is ',pay)\n"
   ],
   "metadata": {
    "id": "e6dOMJkIHhFL",
    "colab": {
     "base_uri": "https://localhost:8080/"
    },
    "outputId": "09e6c3d8-f82a-4060-e3f6-4fb500432039"
   },
   "execution_count": null,
   "outputs": [
    {
     "output_type": "stream",
     "name": "stdout",
     "text": [
      "Enter Hours: 5\n",
      "Enter Rate: 6\n",
      "Gross pay is  30.0\n"
     ]
    }
   ]
  },
  {
   "cell_type": "code",
   "source": [
    "def fact(n):\n",
    "    if n== 0:\n",
    "        return 1\n",
    "    else:\n",
    "        return fact(n-1) * n\n",
    "    \n",
    "n = int(input(\"Enter a natural number: \"))\n",
    "print(\"Its factorial is\", fact(n))"
   ],
   "metadata": {
    "id": "bmRG8r3tfjNq",
    "colab": {
     "base_uri": "https://localhost:8080/"
    },
    "outputId": "52e1b45e-151e-4cda-de18-e9941e832718"
   },
   "execution_count": 2,
   "outputs": [
    {
     "output_type": "stream",
     "name": "stdout",
     "text": [
      "Enter a natural number: 7\n",
      "Its factorial is 5040\n"
     ]
    }
   ]
  }
 ]
}
