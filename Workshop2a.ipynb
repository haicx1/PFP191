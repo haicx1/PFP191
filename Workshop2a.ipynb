{
 "nbformat": 4,
 "nbformat_minor": 0,
 "metadata": {
  "colab": {
   "provenance": [],
   "authorship_tag": "ABX9TyNSJ8oLi2pBKqQWCUkYH+JG",
   "include_colab_link": true
  },
  "kernelspec": {
   "name": "python3",
   "display_name": "Python 3"
  },
  "language_info": {
   "name": "python"
  }
 },
 "cells": [
  {
   "cell_type": "markdown",
   "metadata": {
    "id": "view-in-github",
    "colab_type": "text"
   },
   "source": [
    "<a href=\"https://colab.research.google.com/github/haicx1/PFP191/blob/main/Workshop2a.ipynb\" target=\"_parent\"><img src=\"https://colab.research.google.com/assets/colab-badge.svg\" alt=\"Open In Colab\"/></a>"
   ]
  },
  {
   "cell_type": "code",
   "execution_count": null,
   "metadata": {
    "colab": {
     "base_uri": "https://localhost:8080/"
    },
    "id": "2mwuaZxfNWRx",
    "outputId": "d6339d22-727b-464c-a25c-5d230af6c74b"
   },
   "outputs": [
    {
     "output_type": "stream",
     "name": "stdout",
     "text": [
      "Enter a number: 1\n",
      "Enter a number: 2\n",
      "Enter a number: 3\n",
      "1.0\n",
      "2.0\n",
      "3.0\n",
      "1.0\n",
      "2.0\n",
      "3.0 -1.0\n"
     ]
    }
   ],
   "source": [
    "def func1(a,b,c):\n",
    "  print(a)\n",
    "  print(b)\n",
    "  print(c)\n",
    "\n",
    "def func2(a,b):\n",
    "  print(a)\n",
    "  print(b)\n",
    "\n",
    "def calculation(a,b):\n",
    "  sum = a + b\n",
    "  minus = a -b\n",
    "  print(sum,minus)\n",
    "\n",
    "try:\n",
    "  a = int(input('Enter a number: '))\n",
    "  b = int(input('Enter a number: '))\n",
    "  c= int(input('Enter a number: '))\n",
    "except:\n",
    "  print('not a integer.')\n",
    "func1(a,b,c)\n",
    "func2(a,b)\n",
    "calculation(a,b)\n"
   ]
  },
  {
   "cell_type": "code",
   "source": [
    "def showEmployee(name,salary = 9000) :\n",
    "  print('Name:',name,'Salary:',salary)\n",
    "\n",
    "showEmployee('Ben',12000)\n",
    "showEmployee('Jessa')\n",
    "\n",
    "def out_func(a,b) :\n",
    "  def in_func(a,b):\n",
    "    return a + b\n",
    "  return in_func(a,b) + 5\n",
    "result = out_func(5,10)\n",
    "print(result)"
   ],
   "metadata": {
    "id": "KF5252TCOwEq",
    "colab": {
     "base_uri": "https://localhost:8080/"
    },
    "outputId": "dd5926d6-b6cf-4925-dad7-1e76edf9284a"
   },
   "execution_count": null,
   "outputs": [
    {
     "output_type": "stream",
     "name": "stdout",
     "text": [
      "Name: Ben Salary: 12000\n",
      "Name: Jessa Salary: 9000\n",
      "20\n"
     ]
    }
   ]
  },
  {
   "cell_type": "code",
   "source": [
    "def addition(n) :\n",
    "  if n == 0 :\n",
    "    return 0\n",
    "  else :\n",
    "    return(addition(n-1) + n)\n",
    "res = addition(10)\n",
    "print(res)\n",
    "\n",
    "def displayStudent(name,age) :\n",
    "  print(name,age)\n",
    "showStudent = displayStudent\n",
    "displayStudent('Emma',26)\n",
    "showStudent('Emma',26)"
   ],
   "metadata": {
    "id": "hFim-trEPoep",
    "colab": {
     "base_uri": "https://localhost:8080/"
    },
    "outputId": "33b89513-f6be-403c-a79f-94d43770f8e4"
   },
   "execution_count": null,
   "outputs": [
    {
     "output_type": "stream",
     "name": "stdout",
     "text": [
      "55\n",
      "Emma 26\n",
      "Emma 26\n"
     ]
    }
   ]
  },
  {
   "cell_type": "code",
   "source": [
    "def palindrome(n):\n",
    "  num = int(n)\n",
    "  temp = num\n",
    "  rev=0\n",
    "  while(num>0):\n",
    "    dig=num%10\n",
    "    rev=rev*10+dig\n",
    "    num=num//10\n",
    "  if(temp==rev):\n",
    "    print(\"The number is palindrome!\")\n",
    "  else:\n",
    "    print(\"Not a palindrome!\")\n",
    "num=int(input(\"Enter a number:\"))\n",
    "palindrome(num)\n",
    "\n",
    "x = [4,6,8,24,12,2]\n",
    "largest = -1\n",
    "for i in x :\n",
    "  if i > largest :\n",
    "    largest = i\n",
    "\n",
    "print(largest)\n"
   ],
   "metadata": {
    "colab": {
     "base_uri": "https://localhost:8080/"
    },
    "id": "02N-H7D9nkOH",
    "outputId": "d5a85325-eae9-4b04-bd90-e607134a0e0b"
   },
   "execution_count": null,
   "outputs": [
    {
     "output_type": "stream",
     "name": "stdout",
     "text": [
      "Enter a number:12321\n",
      "The number is palindrome!\n",
      "24\n"
     ]
    }
   ]
  }
 ]
}
