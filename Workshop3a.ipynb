{
 "nbformat": 4,
 "nbformat_minor": 0,
 "metadata": {
  "colab": {
   "provenance": [],
   "authorship_tag": "ABX9TyMOtPJWOxuFrZlslndYcKgA",
   "include_colab_link": true
  },
  "kernelspec": {
   "name": "python3",
   "display_name": "Python 3"
  },
  "language_info": {
   "name": "python"
  }
 },
 "cells": [
  {
   "cell_type": "markdown",
   "metadata": {
    "id": "view-in-github",
    "colab_type": "text"
   },
   "source": [
    "<a href=\"https://colab.research.google.com/github/haicx1/PFP191/blob/main/Workshop3a.ipynb\" target=\"_parent\"><img src=\"https://colab.research.google.com/assets/colab-badge.svg\" alt=\"Open In Colab\"/></a>"
   ]
  },
  {
   "cell_type": "code",
   "execution_count": null,
   "metadata": {
    "colab": {
     "base_uri": "https://localhost:8080/"
    },
    "id": "4R1WUGy3vMWO",
    "outputId": "c5c265dc-132c-4440-d17d-f69673f00d9c"
   },
   "outputs": [
    {
     "output_type": "stream",
     "name": "stdout",
     "text": [
      "Enter a number: 6\n",
      "1  \n",
      "1 2  \n",
      "1 2 3  \n",
      "1 2 3 4  \n",
      "1 2 3 4 5  \n",
      "1 2 3 4 5 6  \n",
      "Enter a number: 5\n",
      "Sum is: 15\n"
     ]
    }
   ],
   "source": [
    "def printTri(n) :\n",
    "  for i in range(1,n+1) :\n",
    "    for j in range (1,i+1) :\n",
    "      print(j,end = \" \")\n",
    "    print(\" \")\n",
    "\n",
    "while True :\n",
    "  try:\n",
    "    num = int(input('Enter a number: '))\n",
    "    if num >= 1 :\n",
    "      break\n",
    "  except:\n",
    "    print('invalid number')\n",
    "\n",
    "printTri(num)\n",
    "\n",
    "def sumCal(n) :\n",
    "  sum = 0\n",
    "  for i in range(1,n+1) :\n",
    "    sum = sum + i\n",
    "  return sum\n",
    "\n",
    "while True :\n",
    "  try:\n",
    "    num = int(input('Enter a number: '))\n",
    "    if num >= 1 :\n",
    "      break\n",
    "  except:\n",
    "    print('invalid number')\n",
    "\n",
    "print('Sum is:',sumCal(num))\n",
    "\n"
   ]
  },
  {
   "cell_type": "code",
   "source": [
    "numList = list()\n",
    "print('type done to finish your list')\n",
    "while True :\n",
    "  try:\n",
    "    n = input('Enter a number: ')\n",
    "    if n == \"done\":\n",
    "      break\n",
    "    n = int(n)\n",
    "    numList.append(n)\n",
    "  except:\n",
    "    print('invalid input')\n",
    "\n",
    "for i in range(0,len(numList) - 1) :\n",
    "  if ( numList[i] % 5 ) == 0 and numList[i] <= 150 :\n",
    "    print(numList[i])\n",
    "  elif numList[i] > 150 :\n",
    "    continue\n",
    "  elif numList[i] >= 500 :\n",
    "    break\n",
    "\n",
    "def countDigit(num) :\n",
    "  sumDigit = 0\n",
    "  while num > 0 :\n",
    "    digit = num % 10\n",
    "    num = num // 10\n",
    "    sumDigit = digit + sumDigit \n",
    "  return sumDigit\n",
    "\n",
    "while True :\n",
    "  try:\n",
    "    num = int(input('Enter a number: '))\n",
    "    if num >= 0 :\n",
    "      break\n",
    "  except:\n",
    "    print('invalid number')\n",
    "print('Total digit are:',countDigit(num))\n",
    "numList.reverse()\n",
    "print('List in reverse:',numList)\n",
    "\n",
    "\n",
    "\n"
   ],
   "metadata": {
    "colab": {
     "base_uri": "https://localhost:8080/"
    },
    "id": "r_SGBNWjyT2O",
    "outputId": "fa031dcf-14bb-4f11-998f-c02b1d77da92"
   },
   "execution_count": null,
   "outputs": [
    {
     "output_type": "stream",
     "name": "stdout",
     "text": [
      "type done to finish your list\n",
      "Enter a number: 9\n",
      "Enter a number: 25\n",
      "Enter a number: 4\n",
      "Enter a number: 6\n",
      "Enter a number: 75\n",
      "Enter a number: 150\n",
      "Enter a number: 7\n",
      "Enter a number: 55\n",
      "Enter a number: 500\n",
      "Enter a number: 6\n",
      "Enter a number: done\n",
      "25\n",
      "75\n",
      "150\n",
      "55\n"
     ]
    }
   ]
  },
  {
   "cell_type": "code",
   "source": [
    "print('type done to break the loop.')\n",
    "while True :\n",
    "  oString = input('Enter original string:')\n",
    "  if oString == 'done' :\n",
    "    break\n",
    "  mString = oString[3:7]\n",
    "  print('Original String is:',oString)\n",
    "  print('Middle four chars are:',mString)\n",
    "\n",
    "String2 = input('Enter new String:')\n",
    "m = len(String2) // 2\n",
    "n = len(String2) - m\n",
    "print(String2[0:m] + mString + String2[n : ] )\n",
    "\n",
    "S1 = input('Enter a new String:')\n",
    "S2 = input('Enter another new String:')\n",
    "m = S1[len(S1) // 2]\n",
    "n = S2[len(S2) // 2]\n",
    "S3 = S1[0] + S2[0] + m + n +S1[len(S1) -1] + S2[len(S2) - 1]\n",
    "print(S3)\n"
   ],
   "metadata": {
    "id": "6Cr04XXy6Y2D",
    "colab": {
     "base_uri": "https://localhost:8080/"
    },
    "outputId": "1be6ae90-9f3d-48ee-9781-df9b57ce7638"
   },
   "execution_count": 9,
   "outputs": [
    {
     "output_type": "stream",
     "name": "stdout",
     "text": [
      "type done to break the loop.\n",
      "Enter original string:lksdflkjglfk\n",
      "Original String is: lksdflkjglfk\n",
      "Middle four chars are: dflk\n",
      "Enter original string:done\n",
      "Enter new String:ioreuto\n",
      "iordflkuto\n",
      "Enter a new String:America\n",
      "Enter another new String:Japan\n",
      "AJrpan\n"
     ]
    }
   ]
  },
  {
   "cell_type": "code",
   "source": [
    "String4 = input(\"Enter a String :\")\n",
    "Slower =\"\"\n",
    "Supper =\"\"\n",
    "for i in range(len(String4)) :\n",
    "  if String4[i].islower():\n",
    "    Slower = Slower + String4[i]\n",
    "  elif String4[i].isupper():\n",
    "    Supper = Supper+String4[i]\n",
    "  else :\n",
    "    continue\n",
    "String5 = Slower + Supper\n",
    "print(String5)\n"
   ],
   "metadata": {
    "colab": {
     "base_uri": "https://localhost:8080/"
    },
    "id": "E4L9JWqovAC0",
    "outputId": "1f6c734d-66b5-40c3-b0fb-fb9b6406827d"
   },
   "execution_count": 15,
   "outputs": [
    {
     "output_type": "stream",
     "name": "stdout",
     "text": [
      "Enter a String :PyNative\n",
      "yativePN\n"
     ]
    }
   ]
  },
  {
   "cell_type": "code",
   "source": [
    "String6 = input('Enter a new String :')\n",
    "StrInt =\"\"\n",
    "for i in range(len(String6)) :\n",
    "  if String6[i].isnumeric() :\n",
    "    StrInt = StrInt + String6[i]\n",
    "  else:\n",
    "    continue\n",
    "print(StrInt)"
   ],
   "metadata": {
    "colab": {
     "base_uri": "https://localhost:8080/"
    },
    "id": "Koz6kwDN2Ti8",
    "outputId": "e64c9280-2e07-420a-eafe-4573d023447f"
   },
   "execution_count": 17,
   "outputs": [
    {
     "output_type": "stream",
     "name": "stdout",
     "text": [
      "Enter a new String :My Name is Hai , I'm 20 years old and 11 months\n",
      "2011\n"
     ]
    }
   ]
  },
  {
   "cell_type": "code",
   "source": [
    "String7 = input('Enter a new String:')\n",
    "s7 = \"\"\n",
    "for i in range(len(String7)) :\n",
    "  if String7[i].isalpha() or String7[i].isnumeric() or String7[i] == \" \" :\n",
    "    s7 = s7 + String7[i]\n",
    "print(s7)"
   ],
   "metadata": {
    "colab": {
     "base_uri": "https://localhost:8080/"
    },
    "id": "9ui5F_sZ32S9",
    "outputId": "8d1d4cd7-b136-4995-de2a-babf28210f20"
   },
   "execution_count": 22,
   "outputs": [
    {
     "output_type": "stream",
     "name": "stdout",
     "text": [
      "Enter a new String:8UHD7&HJ(SJ\n",
      "8UHD7HJSJ\n"
     ]
    }
   ]
  },
  {
   "cell_type": "code",
   "source": [
    "lstStr = list()\n",
    "print('Type done to finish enter list:')\n",
    "while True:\n",
    "  String8 = input('Enter a String:')\n",
    "  if String8 == \"done\":\n",
    "    break\n",
    "for i in range(len(lstStr)) :\n",
    "  if lstStr[i] == \"\" or lstStr[i] == \" \" :\n",
    "    lstStr.pop(i)\n",
    "print(lstStr)\n",
    "  \n"
   ],
   "metadata": {
    "id": "RUVN3IWW6bkF"
   },
   "execution_count": null,
   "outputs": []
  },
  {
   "cell_type": "code",
   "source": [
    "String9 = input('Enter a new String:')\n",
    "s9 = String9.split(\"-\",String9.count('-') + 1)\n",
    "for i in range(len(s9)) :\n",
    "  print(s9[i])\n"
   ],
   "metadata": {
    "colab": {
     "base_uri": "https://localhost:8080/"
    },
    "id": "eyVa6drF7eht",
    "outputId": "dfb2039b-3445-4746-86c7-169fdee49698"
   },
   "execution_count": 25,
   "outputs": [
    {
     "output_type": "stream",
     "name": "stdout",
     "text": [
      "Enter a new String:Hello-World-Hai\n",
      "Hello\n",
      "World\n",
      "Hai\n"
     ]
    }
   ]
  }
 ]
}
