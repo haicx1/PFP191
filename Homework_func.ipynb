{
  "nbformat": 4,
  "nbformat_minor": 0,
  "metadata": {
    "colab": {
      "provenance": [],
      "authorship_tag": "ABX9TyMDPs6/9H3d7ea8mDPpSPVy",
      "include_colab_link": true
    },
    "kernelspec": {
      "name": "python3",
      "display_name": "Python 3"
    },
    "language_info": {
      "name": "python"
    }
  },
  "cells": [
    {
      "cell_type": "markdown",
      "metadata": {
        "id": "view-in-github",
        "colab_type": "text"
      },
      "source": [
        "<a href=\"https://colab.research.google.com/github/haicx1/PFP191/blob/main/Homework_func.ipynb\" target=\"_parent\"><img src=\"https://colab.research.google.com/assets/colab-badge.svg\" alt=\"Open In Colab\"/></a>"
      ]
    },
    {
      "cell_type": "code",
      "source": [
        "def isPrime(n) :\n",
        "  flag =False\n",
        "  if n == 1:\n",
        "    pass\n",
        "  else :\n",
        "    for i in range(2,n) :\n",
        "      if (n % i) == 0 :\n",
        "        return True\n",
        "    if flag == True:\n",
        "      pass\n",
        "    else:\n",
        "      print(n,'is a prime number.')\n",
        "\n",
        "while True:\n",
        "  n = int(input('Enter a natural number'))\n",
        "  try:\n",
        "    if n > 0 :\n",
        "      break\n",
        "    else:\n",
        "      print('Value is invalid.')\n",
        "  except:\n",
        "    print('Value is invalid.')\n",
        "for i in range(1,n) :\n",
        "  isPrime(i)\n",
        "\n",
        "\n",
        "\n",
        "\n",
        "\n",
        "\n",
        "\n"
      ],
      "metadata": {
        "colab": {
          "base_uri": "https://localhost:8080/"
        },
        "id": "M_ahx4hoI4sk",
        "outputId": "58806568-f0a4-4335-93f0-80917a48d7aa"
      },
      "execution_count": 15,
      "outputs": [
        {
          "output_type": "stream",
          "name": "stdout",
          "text": [
            "Enter a natural number10\n",
            "2 is a prime number.\n",
            "3 is a prime number.\n",
            "5 is a prime number.\n",
            "7 is a prime number.\n"
          ]
        }
      ]
    },
    {
      "cell_type": "code",
      "source": [
        "def computeGCD(x, y):\n",
        "\n",
        "\tif x > y:\n",
        "\t\tsmall = y\n",
        "\telse:\n",
        "\t\tsmall = x\n",
        "\tfor i in range(1, small + 1):\n",
        "\t\tif((x % i == 0) and (y % i == 0)):\n",
        "\t\t\tgcd = i\n",
        "\t\t\t\n",
        "\treturn gcd\n",
        "\n",
        "a = int(input('Enter a natural number:'))\n",
        "b = int(input('Enter a natural number:'))\n",
        "print('gcd of 2 numbers are:',computeGCD(a,b))"
      ],
      "metadata": {
        "colab": {
          "base_uri": "https://localhost:8080/"
        },
        "id": "UjDZHD2yR6nR",
        "outputId": "4b7c7ddf-c391-41b4-afdb-b90d865cdc42"
      },
      "execution_count": 16,
      "outputs": [
        {
          "output_type": "stream",
          "name": "stdout",
          "text": [
            "Enter a natural number:10\n",
            "Enter a natural number:20\n",
            "gcd of 2 numbers are: 10\n"
          ]
        }
      ]
    }
  ]
}